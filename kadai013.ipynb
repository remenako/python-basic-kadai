{
  "nbformat": 4,
  "nbformat_minor": 0,
  "metadata": {
    "colab": {
      "provenance": []
    },
    "kernelspec": {
      "name": "python3",
      "display_name": "Python 3"
    },
    "language_info": {
      "name": "python"
    }
  },
  "cells": [
    {
      "cell_type": "code",
      "metadata": {
        "colab": {
          "base_uri": "https://localhost:8080/"
        },
        "id": "2fde34a0",
        "outputId": "f067650d-2d89-4e25-9933-c6f6a37b380f"
      },
      "source": [
        "def calculate_price_with_tax(price: float, tax_rate: float) -> float:\n",
        "\n",
        "  tax_amount = price * (tax_rate / 100)\n",
        "  total_price = price + tax_amount\n",
        "  return total_price\n",
        "\n",
        "# 関数の使用例（商品の金額: 110円, 消費税率: 10%）\n",
        "item_price = 110\n",
        "consumption_tax_rate = 10\n",
        "total = calculate_price_with_tax(item_price, consumption_tax_rate)\n",
        "print(f\"商品の金額: {item_price}円\")\n",
        "print(f\"消費税率: {consumption_tax_rate}%\")\n",
        "print(f\"消費税込みの合計金額: {total}円\")\n",
        "\n",
        "# 小数点が含まれる場合の例\n",
        "item_price_decimal = 100.50\n",
        "consumption_tax_rate_decimal = 8\n",
        "total_decimal = calculate_price_with_tax(item_price_decimal, consumption_tax_rate_decimal)\n",
        "print(f\"\\n商品の金額: {item_price_decimal}円\")\n",
        "print(f\"消費税率: {consumption_tax_rate_decimal}%\")\n",
        "print(f\"消費税込みの合計金額: {total_decimal}円\")"
      ],
      "execution_count": 9,
      "outputs": [
        {
          "output_type": "stream",
          "name": "stdout",
          "text": [
            "商品の金額: 110円\n",
            "消費税率: 10%\n",
            "消費税込みの合計金額: 121.0円\n",
            "\n",
            "商品の金額: 100.5円\n",
            "消費税率: 8%\n",
            "消費税込みの合計金額: 108.54円\n"
          ]
        }
      ]
    }
  ]
}