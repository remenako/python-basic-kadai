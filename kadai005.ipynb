{
  "nbformat": 4,
  "nbformat_minor": 0,
  "metadata": {
    "colab": {
      "provenance": []
    },
    "kernelspec": {
      "name": "python3",
      "display_name": "Python 3"
    },
    "language_info": {
      "name": "python"
    }
  },
  "cells": [
    {
      "cell_type": "code",
      "source": [
        "upper_base = 10 # 上辺\n",
        "lower_base = 20 # 下辺\n",
        "height = 5 # 高さ\n",
        "\n",
        "# 台形の面積を計算\n",
        "area = (upper_base + lower_base) * height / 2\n",
        "\n",
        "# 結果を表示\n",
        "print(f\"上辺：{upper_base}cm\")\n",
        "print(f\"下辺：{lower_base}cm\")\n",
        "print(f\"高さ：{height}cm\")\n",
        "\n",
        "print(f\"公式：台形の面積 = {area}㎠\")"
      ],
      "metadata": {
        "colab": {
          "base_uri": "https://localhost:8080/"
        },
        "id": "LHNsIhmM--gQ",
        "outputId": "4e03d77d-642d-4364-905e-6dcad611e855"
      },
      "execution_count": 19,
      "outputs": [
        {
          "output_type": "stream",
          "name": "stdout",
          "text": [
            "上辺：10cm\n",
            "下辺：20cm\n",
            "高さ：5cm\n",
            "公式：台形の面積 = 75.0㎠\n"
          ]
        }
      ]
    }
  ]
}